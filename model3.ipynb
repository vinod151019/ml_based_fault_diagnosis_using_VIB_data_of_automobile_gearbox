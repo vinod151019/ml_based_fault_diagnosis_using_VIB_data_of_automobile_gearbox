{
 "cells": [
  {
   "cell_type": "code",
   "execution_count": 1,
   "id": "d85fbdad",
   "metadata": {},
   "outputs": [],
   "source": [
    "import pandas as pd\n",
    "import numpy as np\n",
    "from sklearn.model_selection import train_test_split\n",
    "from sklearn.preprocessing import StandardScaler\n",
    "from sklearn.model_selection import GridSearchCV\n",
    "from sklearn.svm import SVC\n",
    "from sklearn.metrics import confusion_matrix,accuracy_score\n",
    "import seaborn as sns\n",
    "import matplotlib.pyplot as plt\n",
    "from sklearn import svm\n",
    "import pickle"
   ]
  },
  {
   "cell_type": "code",
   "execution_count": 2,
   "id": "dede7a49",
   "metadata": {},
   "outputs": [
    {
     "data": {
      "text/html": [
       "<div>\n",
       "<style scoped>\n",
       "    .dataframe tbody tr th:only-of-type {\n",
       "        vertical-align: middle;\n",
       "    }\n",
       "\n",
       "    .dataframe tbody tr th {\n",
       "        vertical-align: top;\n",
       "    }\n",
       "\n",
       "    .dataframe thead th {\n",
       "        text-align: right;\n",
       "    }\n",
       "</style>\n",
       "<table border=\"1\" class=\"dataframe\">\n",
       "  <thead>\n",
       "    <tr style=\"text-align: right;\">\n",
       "      <th></th>\n",
       "      <th>mean</th>\n",
       "      <th>sum</th>\n",
       "      <th>minimum</th>\n",
       "      <th>maximum</th>\n",
       "      <th>std</th>\n",
       "      <th>var</th>\n",
       "      <th>kurtosis</th>\n",
       "      <th>skewness</th>\n",
       "      <th>condition</th>\n",
       "    </tr>\n",
       "  </thead>\n",
       "  <tbody>\n",
       "    <tr>\n",
       "      <th>0</th>\n",
       "      <td>0.528640</td>\n",
       "      <td>0.535890</td>\n",
       "      <td>-0.38271</td>\n",
       "      <td>1.20660</td>\n",
       "      <td>0.15396</td>\n",
       "      <td>0.023705</td>\n",
       "      <td>4.0432</td>\n",
       "      <td>-0.38793</td>\n",
       "      <td>1</td>\n",
       "    </tr>\n",
       "    <tr>\n",
       "      <th>1</th>\n",
       "      <td>0.532720</td>\n",
       "      <td>0.540350</td>\n",
       "      <td>-0.35960</td>\n",
       "      <td>1.06760</td>\n",
       "      <td>0.15213</td>\n",
       "      <td>0.023143</td>\n",
       "      <td>3.9499</td>\n",
       "      <td>-0.40600</td>\n",
       "      <td>1</td>\n",
       "    </tr>\n",
       "    <tr>\n",
       "      <th>2</th>\n",
       "      <td>0.531500</td>\n",
       "      <td>0.536060</td>\n",
       "      <td>-0.20506</td>\n",
       "      <td>1.12870</td>\n",
       "      <td>0.15375</td>\n",
       "      <td>0.023639</td>\n",
       "      <td>3.6487</td>\n",
       "      <td>-0.27011</td>\n",
       "      <td>1</td>\n",
       "    </tr>\n",
       "    <tr>\n",
       "      <th>3</th>\n",
       "      <td>0.508890</td>\n",
       "      <td>0.517570</td>\n",
       "      <td>-0.40095</td>\n",
       "      <td>1.00740</td>\n",
       "      <td>0.15433</td>\n",
       "      <td>0.023816</td>\n",
       "      <td>4.0031</td>\n",
       "      <td>-0.44341</td>\n",
       "      <td>1</td>\n",
       "    </tr>\n",
       "    <tr>\n",
       "      <th>4</th>\n",
       "      <td>0.526380</td>\n",
       "      <td>0.534950</td>\n",
       "      <td>-0.55289</td>\n",
       "      <td>1.38910</td>\n",
       "      <td>0.15438</td>\n",
       "      <td>0.023833</td>\n",
       "      <td>4.4268</td>\n",
       "      <td>-0.37518</td>\n",
       "      <td>1</td>\n",
       "    </tr>\n",
       "    <tr>\n",
       "      <th>...</th>\n",
       "      <td>...</td>\n",
       "      <td>...</td>\n",
       "      <td>...</td>\n",
       "      <td>...</td>\n",
       "      <td>...</td>\n",
       "      <td>...</td>\n",
       "      <td>...</td>\n",
       "      <td>...</td>\n",
       "      <td>...</td>\n",
       "    </tr>\n",
       "    <tr>\n",
       "      <th>1595</th>\n",
       "      <td>0.040631</td>\n",
       "      <td>0.043709</td>\n",
       "      <td>-0.55790</td>\n",
       "      <td>0.48150</td>\n",
       "      <td>0.10493</td>\n",
       "      <td>0.011011</td>\n",
       "      <td>3.8001</td>\n",
       "      <td>-0.26962</td>\n",
       "      <td>16</td>\n",
       "    </tr>\n",
       "    <tr>\n",
       "      <th>1596</th>\n",
       "      <td>0.042683</td>\n",
       "      <td>0.044624</td>\n",
       "      <td>-0.74374</td>\n",
       "      <td>0.98350</td>\n",
       "      <td>0.10524</td>\n",
       "      <td>0.011076</td>\n",
       "      <td>5.0817</td>\n",
       "      <td>-0.11603</td>\n",
       "      <td>16</td>\n",
       "    </tr>\n",
       "    <tr>\n",
       "      <th>1597</th>\n",
       "      <td>0.043313</td>\n",
       "      <td>0.045870</td>\n",
       "      <td>-0.73517</td>\n",
       "      <td>0.69698</td>\n",
       "      <td>0.10842</td>\n",
       "      <td>0.011754</td>\n",
       "      <td>4.4859</td>\n",
       "      <td>-0.29430</td>\n",
       "      <td>16</td>\n",
       "    </tr>\n",
       "    <tr>\n",
       "      <th>1598</th>\n",
       "      <td>0.043133</td>\n",
       "      <td>0.045828</td>\n",
       "      <td>-0.70864</td>\n",
       "      <td>0.57921</td>\n",
       "      <td>0.10738</td>\n",
       "      <td>0.011531</td>\n",
       "      <td>3.9885</td>\n",
       "      <td>-0.20763</td>\n",
       "      <td>16</td>\n",
       "    </tr>\n",
       "    <tr>\n",
       "      <th>1599</th>\n",
       "      <td>0.044480</td>\n",
       "      <td>0.048474</td>\n",
       "      <td>-0.46774</td>\n",
       "      <td>0.60609</td>\n",
       "      <td>0.10575</td>\n",
       "      <td>0.011183</td>\n",
       "      <td>3.8164</td>\n",
       "      <td>-0.21972</td>\n",
       "      <td>16</td>\n",
       "    </tr>\n",
       "  </tbody>\n",
       "</table>\n",
       "<p>1600 rows × 9 columns</p>\n",
       "</div>"
      ],
      "text/plain": [
       "          mean       sum  minimum  maximum      std       var  kurtosis  \\\n",
       "0     0.528640  0.535890 -0.38271  1.20660  0.15396  0.023705    4.0432   \n",
       "1     0.532720  0.540350 -0.35960  1.06760  0.15213  0.023143    3.9499   \n",
       "2     0.531500  0.536060 -0.20506  1.12870  0.15375  0.023639    3.6487   \n",
       "3     0.508890  0.517570 -0.40095  1.00740  0.15433  0.023816    4.0031   \n",
       "4     0.526380  0.534950 -0.55289  1.38910  0.15438  0.023833    4.4268   \n",
       "...        ...       ...      ...      ...      ...       ...       ...   \n",
       "1595  0.040631  0.043709 -0.55790  0.48150  0.10493  0.011011    3.8001   \n",
       "1596  0.042683  0.044624 -0.74374  0.98350  0.10524  0.011076    5.0817   \n",
       "1597  0.043313  0.045870 -0.73517  0.69698  0.10842  0.011754    4.4859   \n",
       "1598  0.043133  0.045828 -0.70864  0.57921  0.10738  0.011531    3.9885   \n",
       "1599  0.044480  0.048474 -0.46774  0.60609  0.10575  0.011183    3.8164   \n",
       "\n",
       "      skewness  condition  \n",
       "0     -0.38793          1  \n",
       "1     -0.40600          1  \n",
       "2     -0.27011          1  \n",
       "3     -0.44341          1  \n",
       "4     -0.37518          1  \n",
       "...        ...        ...  \n",
       "1595  -0.26962         16  \n",
       "1596  -0.11603         16  \n",
       "1597  -0.29430         16  \n",
       "1598  -0.20763         16  \n",
       "1599  -0.21972         16  \n",
       "\n",
       "[1600 rows x 9 columns]"
      ]
     },
     "execution_count": 2,
     "metadata": {},
     "output_type": "execute_result"
    }
   ],
   "source": [
    "data = pd.read_csv(\"2_500_z2_new.csv\",error_bad_lines=False)\n",
    "data"
   ]
  },
  {
   "cell_type": "code",
   "execution_count": 3,
   "id": "3c2eba43",
   "metadata": {},
   "outputs": [
    {
     "name": "stdout",
     "output_type": "stream",
     "text": [
      "<class 'pandas.core.frame.DataFrame'>\n",
      "RangeIndex: 1600 entries, 0 to 1599\n",
      "Data columns (total 9 columns):\n",
      " #   Column     Non-Null Count  Dtype  \n",
      "---  ------     --------------  -----  \n",
      " 0   mean       1600 non-null   float64\n",
      " 1   sum        1600 non-null   float64\n",
      " 2   minimum    1600 non-null   float64\n",
      " 3   maximum    1600 non-null   float64\n",
      " 4   std        1600 non-null   float64\n",
      " 5   var        1600 non-null   float64\n",
      " 6   kurtosis   1600 non-null   float64\n",
      " 7   skewness   1600 non-null   float64\n",
      " 8   condition  1600 non-null   int64  \n",
      "dtypes: float64(8), int64(1)\n",
      "memory usage: 112.6 KB\n"
     ]
    }
   ],
   "source": [
    "data.info()"
   ]
  },
  {
   "cell_type": "code",
   "execution_count": 4,
   "id": "2267a615",
   "metadata": {},
   "outputs": [
    {
     "data": {
      "text/html": [
       "<div>\n",
       "<style scoped>\n",
       "    .dataframe tbody tr th:only-of-type {\n",
       "        vertical-align: middle;\n",
       "    }\n",
       "\n",
       "    .dataframe tbody tr th {\n",
       "        vertical-align: top;\n",
       "    }\n",
       "\n",
       "    .dataframe thead th {\n",
       "        text-align: right;\n",
       "    }\n",
       "</style>\n",
       "<table border=\"1\" class=\"dataframe\">\n",
       "  <thead>\n",
       "    <tr style=\"text-align: right;\">\n",
       "      <th></th>\n",
       "      <th>mean</th>\n",
       "      <th>sum</th>\n",
       "      <th>std</th>\n",
       "      <th>var</th>\n",
       "      <th>kurtosis</th>\n",
       "      <th>skewness</th>\n",
       "      <th>condition</th>\n",
       "    </tr>\n",
       "  </thead>\n",
       "  <tbody>\n",
       "    <tr>\n",
       "      <th>0</th>\n",
       "      <td>0.528640</td>\n",
       "      <td>0.535890</td>\n",
       "      <td>0.15396</td>\n",
       "      <td>0.023705</td>\n",
       "      <td>4.0432</td>\n",
       "      <td>-0.38793</td>\n",
       "      <td>1</td>\n",
       "    </tr>\n",
       "    <tr>\n",
       "      <th>1</th>\n",
       "      <td>0.532720</td>\n",
       "      <td>0.540350</td>\n",
       "      <td>0.15213</td>\n",
       "      <td>0.023143</td>\n",
       "      <td>3.9499</td>\n",
       "      <td>-0.40600</td>\n",
       "      <td>1</td>\n",
       "    </tr>\n",
       "    <tr>\n",
       "      <th>2</th>\n",
       "      <td>0.531500</td>\n",
       "      <td>0.536060</td>\n",
       "      <td>0.15375</td>\n",
       "      <td>0.023639</td>\n",
       "      <td>3.6487</td>\n",
       "      <td>-0.27011</td>\n",
       "      <td>1</td>\n",
       "    </tr>\n",
       "    <tr>\n",
       "      <th>3</th>\n",
       "      <td>0.508890</td>\n",
       "      <td>0.517570</td>\n",
       "      <td>0.15433</td>\n",
       "      <td>0.023816</td>\n",
       "      <td>4.0031</td>\n",
       "      <td>-0.44341</td>\n",
       "      <td>1</td>\n",
       "    </tr>\n",
       "    <tr>\n",
       "      <th>4</th>\n",
       "      <td>0.526380</td>\n",
       "      <td>0.534950</td>\n",
       "      <td>0.15438</td>\n",
       "      <td>0.023833</td>\n",
       "      <td>4.4268</td>\n",
       "      <td>-0.37518</td>\n",
       "      <td>1</td>\n",
       "    </tr>\n",
       "    <tr>\n",
       "      <th>...</th>\n",
       "      <td>...</td>\n",
       "      <td>...</td>\n",
       "      <td>...</td>\n",
       "      <td>...</td>\n",
       "      <td>...</td>\n",
       "      <td>...</td>\n",
       "      <td>...</td>\n",
       "    </tr>\n",
       "    <tr>\n",
       "      <th>1595</th>\n",
       "      <td>0.040631</td>\n",
       "      <td>0.043709</td>\n",
       "      <td>0.10493</td>\n",
       "      <td>0.011011</td>\n",
       "      <td>3.8001</td>\n",
       "      <td>-0.26962</td>\n",
       "      <td>16</td>\n",
       "    </tr>\n",
       "    <tr>\n",
       "      <th>1596</th>\n",
       "      <td>0.042683</td>\n",
       "      <td>0.044624</td>\n",
       "      <td>0.10524</td>\n",
       "      <td>0.011076</td>\n",
       "      <td>5.0817</td>\n",
       "      <td>-0.11603</td>\n",
       "      <td>16</td>\n",
       "    </tr>\n",
       "    <tr>\n",
       "      <th>1597</th>\n",
       "      <td>0.043313</td>\n",
       "      <td>0.045870</td>\n",
       "      <td>0.10842</td>\n",
       "      <td>0.011754</td>\n",
       "      <td>4.4859</td>\n",
       "      <td>-0.29430</td>\n",
       "      <td>16</td>\n",
       "    </tr>\n",
       "    <tr>\n",
       "      <th>1598</th>\n",
       "      <td>0.043133</td>\n",
       "      <td>0.045828</td>\n",
       "      <td>0.10738</td>\n",
       "      <td>0.011531</td>\n",
       "      <td>3.9885</td>\n",
       "      <td>-0.20763</td>\n",
       "      <td>16</td>\n",
       "    </tr>\n",
       "    <tr>\n",
       "      <th>1599</th>\n",
       "      <td>0.044480</td>\n",
       "      <td>0.048474</td>\n",
       "      <td>0.10575</td>\n",
       "      <td>0.011183</td>\n",
       "      <td>3.8164</td>\n",
       "      <td>-0.21972</td>\n",
       "      <td>16</td>\n",
       "    </tr>\n",
       "  </tbody>\n",
       "</table>\n",
       "<p>1600 rows × 7 columns</p>\n",
       "</div>"
      ],
      "text/plain": [
       "          mean       sum      std       var  kurtosis  skewness  condition\n",
       "0     0.528640  0.535890  0.15396  0.023705    4.0432  -0.38793          1\n",
       "1     0.532720  0.540350  0.15213  0.023143    3.9499  -0.40600          1\n",
       "2     0.531500  0.536060  0.15375  0.023639    3.6487  -0.27011          1\n",
       "3     0.508890  0.517570  0.15433  0.023816    4.0031  -0.44341          1\n",
       "4     0.526380  0.534950  0.15438  0.023833    4.4268  -0.37518          1\n",
       "...        ...       ...      ...       ...       ...       ...        ...\n",
       "1595  0.040631  0.043709  0.10493  0.011011    3.8001  -0.26962         16\n",
       "1596  0.042683  0.044624  0.10524  0.011076    5.0817  -0.11603         16\n",
       "1597  0.043313  0.045870  0.10842  0.011754    4.4859  -0.29430         16\n",
       "1598  0.043133  0.045828  0.10738  0.011531    3.9885  -0.20763         16\n",
       "1599  0.044480  0.048474  0.10575  0.011183    3.8164  -0.21972         16\n",
       "\n",
       "[1600 rows x 7 columns]"
      ]
     },
     "execution_count": 4,
     "metadata": {},
     "output_type": "execute_result"
    }
   ],
   "source": [
    "data=data.drop(columns = ['maximum','minimum'])\n",
    "data"
   ]
  },
  {
   "cell_type": "code",
   "execution_count": 5,
   "id": "f3ff4d86",
   "metadata": {},
   "outputs": [],
   "source": [
    "data['condition'] = pd.Categorical(data['condition'])"
   ]
  },
  {
   "cell_type": "code",
   "execution_count": 6,
   "id": "24359ef4",
   "metadata": {},
   "outputs": [
    {
     "data": {
      "text/plain": [
       "1     30\n",
       "2     30\n",
       "3     30\n",
       "4     30\n",
       "5     30\n",
       "6     30\n",
       "7     30\n",
       "8     30\n",
       "9     30\n",
       "10    30\n",
       "11    30\n",
       "12    30\n",
       "13    30\n",
       "14    30\n",
       "15    30\n",
       "16    30\n",
       "Name: condition, dtype: int64"
      ]
     },
     "execution_count": 6,
     "metadata": {},
     "output_type": "execute_result"
    }
   ],
   "source": [
    "train_data, test_data = train_test_split(data, test_size = 0.3, stratify = data['condition'],\n",
    "                                         random_state = 1234)\n",
    "test_data['condition'].value_counts()"
   ]
  },
  {
   "cell_type": "code",
   "execution_count": 7,
   "id": "58c54333",
   "metadata": {},
   "outputs": [],
   "source": [
    "scaler = StandardScaler()\n",
    "train_data_scaled = scaler.fit_transform(train_data.iloc[:,:-1])"
   ]
  },
  {
   "cell_type": "code",
   "execution_count": 8,
   "id": "2974f527",
   "metadata": {},
   "outputs": [],
   "source": [
    "test_data_scaled = (test_data.iloc[:,:-1].values - scaler.mean_)/np.sqrt(scaler.var_)"
   ]
  },
  {
   "cell_type": "code",
   "execution_count": 9,
   "id": "5ff63fcc",
   "metadata": {},
   "outputs": [],
   "source": [
    "parameters = {\"C\":[1, 10, 50, 100, 300, 500],\n",
    "             'gamma':[0.01, 0.05, 0.1, 0.5, 1, 5],\n",
    "             'kernel':[\"rbf\"]}"
   ]
  },
  {
   "cell_type": "code",
   "execution_count": 10,
   "id": "9b5116be",
   "metadata": {},
   "outputs": [],
   "source": [
    "tuned_svm_clf = GridSearchCV(SVC(),parameters,n_jobs = -1, cv= 10)"
   ]
  },
  {
   "cell_type": "code",
   "execution_count": 11,
   "id": "0cb2f87e",
   "metadata": {},
   "outputs": [
    {
     "data": {
      "text/plain": [
       "GridSearchCV(cv=10, estimator=SVC(), n_jobs=-1,\n",
       "             param_grid={'C': [1, 10, 50, 100, 300, 500],\n",
       "                         'gamma': [0.01, 0.05, 0.1, 0.5, 1, 5],\n",
       "                         'kernel': ['rbf']})"
      ]
     },
     "execution_count": 11,
     "metadata": {},
     "output_type": "execute_result"
    }
   ],
   "source": [
    "tuned_svm_clf.fit(train_data_scaled, train_data['condition'])"
   ]
  },
  {
   "cell_type": "code",
   "execution_count": 12,
   "id": "e6679ca2",
   "metadata": {},
   "outputs": [
    {
     "data": {
      "text/plain": [
       "0.9321428571428573"
      ]
     },
     "execution_count": 12,
     "metadata": {},
     "output_type": "execute_result"
    }
   ],
   "source": [
    "tuned_svm_clf.best_score_"
   ]
  },
  {
   "cell_type": "code",
   "execution_count": 13,
   "id": "75f7ccf7",
   "metadata": {},
   "outputs": [
    {
     "data": {
      "text/plain": [
       "{'C': 500, 'gamma': 0.05, 'kernel': 'rbf'}"
      ]
     },
     "execution_count": 13,
     "metadata": {},
     "output_type": "execute_result"
    }
   ],
   "source": [
    "tuned_svm_clf.best_params_"
   ]
  },
  {
   "cell_type": "code",
   "execution_count": 14,
   "id": "04f96d0a",
   "metadata": {},
   "outputs": [
    {
     "data": {
      "text/plain": [
       "SVC(C=500, gamma=0.05)"
      ]
     },
     "execution_count": 14,
     "metadata": {},
     "output_type": "execute_result"
    }
   ],
   "source": [
    "best_clf = tuned_svm_clf.best_estimator_\n",
    "best_clf"
   ]
  },
  {
   "cell_type": "code",
   "execution_count": 15,
   "id": "e2d6c7a9",
   "metadata": {},
   "outputs": [],
   "source": [
    "train_predictions = best_clf.predict(train_data_scaled)\n",
    "test_predictions = best_clf.predict(test_data_scaled)"
   ]
  },
  {
   "cell_type": "code",
   "execution_count": null,
   "id": "e1b4a59b",
   "metadata": {},
   "outputs": [],
   "source": []
  },
  {
   "cell_type": "code",
   "execution_count": 16,
   "id": "c8209d63",
   "metadata": {},
   "outputs": [],
   "source": [
    "filename = 'finalized_model3.pkl'\n",
    "pickle.dump(best_clf, open(filename, 'wb'))"
   ]
  },
  {
   "cell_type": "code",
   "execution_count": null,
   "id": "3014af90",
   "metadata": {},
   "outputs": [],
   "source": []
  }
 ],
 "metadata": {
  "kernelspec": {
   "display_name": "Python 3",
   "language": "python",
   "name": "python3"
  },
  "language_info": {
   "codemirror_mode": {
    "name": "ipython",
    "version": 3
   },
   "file_extension": ".py",
   "mimetype": "text/x-python",
   "name": "python",
   "nbconvert_exporter": "python",
   "pygments_lexer": "ipython3",
   "version": "3.8.5"
  }
 },
 "nbformat": 4,
 "nbformat_minor": 5
}
